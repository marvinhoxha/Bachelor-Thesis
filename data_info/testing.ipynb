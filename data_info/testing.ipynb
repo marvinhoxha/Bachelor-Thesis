{
 "cells": [
  {
   "cell_type": "code",
   "execution_count": 2,
   "metadata": {},
   "outputs": [],
   "source": [
    "import pandas as pd"
   ]
  },
  {
   "cell_type": "code",
   "execution_count": 3,
   "metadata": {},
   "outputs": [],
   "source": [
    "df = pd.read_csv(\"Data_Entry_2017_v2020.csv\")"
   ]
  },
  {
   "cell_type": "code",
   "execution_count": 3,
   "metadata": {},
   "outputs": [],
   "source": [
    "new_df = df['Finding Labels'].value_counts()\n",
    "new_df.to_csv('output.csv')"
   ]
  },
  {
   "cell_type": "code",
   "execution_count": 4,
   "metadata": {},
   "outputs": [
    {
     "name": "stdout",
     "output_type": "stream",
     "text": [
      "CSV file generated at: 001traincheckoutput.csv\n"
     ]
    }
   ],
   "source": [
    "import os\n",
    "import csv\n",
    "\n",
    "def generate_csv(folder_path, text_file_path, output_csv_path):\n",
    "    # Read the file names from the text file\n",
    "    with open(text_file_path, 'r') as file:\n",
    "        expected_files = [line.strip() for line in file.readlines()]\n",
    "\n",
    "    # Get the list of files in the folder\n",
    "    files_in_folder = os.listdir(folder_path)\n",
    "\n",
    "    # Generate the CSV file\n",
    "    with open(output_csv_path, 'w', newline='') as csvfile:\n",
    "        writer = csv.writer(csvfile)\n",
    "        writer.writerow(['File Name', 'Label'])\n",
    "\n",
    "        for file_name in expected_files:\n",
    "            if file_name in files_in_folder:\n",
    "                writer.writerow([file_name, 'Yes'])\n",
    "            else:\n",
    "                writer.writerow([file_name, 'No'])\n",
    "\n",
    "# Usage example\n",
    "folder_path = 'dataset/test/001.NoFinding'\n",
    "text_file_path = 'train_val_list.txt'\n",
    "output_csv_path = '001traincheckoutput.csv'\n",
    "\n",
    "generate_csv(folder_path, text_file_path, output_csv_path)\n",
    "print(f\"CSV file generated at: {output_csv_path}\")\n"
   ]
  },
  {
   "cell_type": "code",
   "execution_count": 28,
   "metadata": {},
   "outputs": [
    {
     "name": "stdout",
     "output_type": "stream",
     "text": [
      "CSV file generated at: 001traincheckoutput.csv\n"
     ]
    }
   ],
   "source": [
    "import os\n",
    "import csv\n",
    "\n",
    "def generate_csv(folder_path, text_file_path, output_csv_path):\n",
    "    # Read the file names from the text file\n",
    "    with open(text_file_path, 'r') as file:\n",
    "        expected_files = [line.strip() for line in file.readlines()]\n",
    "\n",
    "    # Get the list of files in the folder\n",
    "    files_in_folder = os.listdir(folder_path)\n",
    "\n",
    "    # Generate the CSV file\n",
    "    with open(output_csv_path, 'w', newline='') as csvfile:\n",
    "        writer = csv.writer(csvfile)\n",
    "        writer.writerow(['File Name', 'Check'])\n",
    "\n",
    "        for file_name in files_in_folder:\n",
    "            if file_name in expected_files:\n",
    "                writer.writerow([file_name, 'Yes'])\n",
    "            else:\n",
    "                writer.writerow([file_name, 'No'])\n",
    "\n",
    "# Usage example\n",
    "folder_path = 'simplyfied_dataset/valid/007.Pneumothorax'\n",
    "text_file_path = 'train_val_list.txt'\n",
    "output_csv_path = '001traincheckoutput.csv'\n",
    "\n",
    "generate_csv(folder_path, text_file_path, output_csv_path)\n",
    "print(f\"CSV file generated at: {output_csv_path}\")\n"
   ]
  },
  {
   "cell_type": "code",
   "execution_count": 29,
   "metadata": {},
   "outputs": [
    {
     "data": {
      "text/plain": [
       "Check\n",
       "Yes    55\n",
       "No     25\n",
       "Name: count, dtype: int64"
      ]
     },
     "execution_count": 29,
     "metadata": {},
     "output_type": "execute_result"
    }
   ],
   "source": [
    "df = pd.read_csv('001traincheckoutput.csv')\n",
    "df['Check'].value_counts()"
   ]
  },
  {
   "cell_type": "code",
   "execution_count": 5,
   "metadata": {},
   "outputs": [
    {
     "name": "stdout",
     "output_type": "stream",
     "text": [
      "Table saved to table.txt\n"
     ]
    }
   ],
   "source": [
    "df.head().to_csv('table.txt', sep='\\t', index=False)\n",
    "\n",
    "print(\"Table saved to table.txt\")"
   ]
  }
 ],
 "metadata": {
  "kernelspec": {
   "display_name": "Python 3",
   "language": "python",
   "name": "python3"
  },
  "language_info": {
   "codemirror_mode": {
    "name": "ipython",
    "version": 3
   },
   "file_extension": ".py",
   "mimetype": "text/x-python",
   "name": "python",
   "nbconvert_exporter": "python",
   "pygments_lexer": "ipython3",
   "version": "3.8.0"
  },
  "orig_nbformat": 4
 },
 "nbformat": 4,
 "nbformat_minor": 2
}
